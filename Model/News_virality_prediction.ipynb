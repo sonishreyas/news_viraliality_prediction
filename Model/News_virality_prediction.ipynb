{
  "nbformat": 4,
  "nbformat_minor": 0,
  "metadata": {
    "colab": {
      "name": "News_virality_prediction.ipynb",
      "provenance": [],
      "collapsed_sections": []
    },
    "kernelspec": {
      "name": "python3",
      "display_name": "Python 3"
    }
  },
  "cells": [
    {
      "cell_type": "markdown",
      "metadata": {
        "id": "1Svw0VumUAfs",
        "colab_type": "text"
      },
      "source": [
        "#### Dependencies"
      ]
    },
    {
      "cell_type": "code",
      "metadata": {
        "id": "gq52nuTyX2ra",
        "colab_type": "code",
        "outputId": "dccd313f-162b-47fe-a4a4-75c39cc4c96e",
        "colab": {
          "base_uri": "https://localhost:8080/",
          "height": 51
        }
      },
      "source": [
        "import pandas as pd\n",
        "import tensorflow as tf\n",
        "import numpy as np\n",
        "from tensorflow.keras.preprocessing.text import Tokenizer\n",
        "from tensorflow.keras.preprocessing.sequence import pad_sequences\n",
        "from sklearn.model_selection import train_test_split\n",
        "import re\n",
        "import nltk\n",
        "nltk.download(\"stopwords\")\n",
        "from nltk.corpus import stopwords\n",
        "from nltk.stem.porter import PorterStemmer"
      ],
      "execution_count": 1,
      "outputs": [
        {
          "output_type": "stream",
          "text": [
            "[nltk_data] Downloading package stopwords to /root/nltk_data...\n",
            "[nltk_data]   Unzipping corpora/stopwords.zip.\n"
          ],
          "name": "stdout"
        }
      ]
    },
    {
      "cell_type": "markdown",
      "metadata": {
        "id": "l1hM9212KU2q",
        "colab_type": "text"
      },
      "source": [
        "#### Load Data"
      ]
    },
    {
      "cell_type": "code",
      "metadata": {
        "id": "lM3mFlpkUWkD",
        "colab_type": "code",
        "colab": {}
      },
      "source": [
        "news = pd.read_csv(\"/content/drive/My Drive/News Virality Prediction/data/news_dataset.csv\")"
      ],
      "execution_count": 0,
      "outputs": []
    },
    {
      "cell_type": "markdown",
      "metadata": {
        "id": "o2Yt54nvUPTc",
        "colab_type": "text"
      },
      "source": [
        "#### Cleaning"
      ]
    },
    {
      "cell_type": "code",
      "metadata": {
        "id": "2-qTtaDmUomc",
        "colab_type": "code",
        "colab": {}
      },
      "source": [
        "shares = news[\"Shares\"]\n",
        "for i in range(len(shares)):\n",
        "  temp = shares[i]\n",
        "  temp = temp.split(\" \")\n",
        "  temp = temp[0]\n",
        "  if temp[-1] == \"K\":\n",
        "    temp = float(temp[:-1]) * 1000\n",
        "  elif temp[-1] == \"M\":\n",
        "    temp = float(temp[:-1]) * 1000000\n",
        "  else:\n",
        "    temp = float(temp)\n",
        "  shares[i] = temp\n",
        "news[\"Shares\"] = shares\n",
        "news[\"Shares\"] = news[\"Shares\"].apply(lambda x: 1 if x>1500 else 0)"
      ],
      "execution_count": 0,
      "outputs": []
    },
    {
      "cell_type": "code",
      "metadata": {
        "id": "BrWfiPkKYSbb",
        "colab_type": "code",
        "outputId": "87432fec-8137-44d3-b8f7-13a0ea7286d2",
        "colab": {
          "base_uri": "https://localhost:8080/",
          "height": 187
        }
      },
      "source": [
        "import sys\n",
        "articles=news[\"Article\"]\n",
        "for i in range(len(articles)):\n",
        "  if type(articles[i])==float:\n",
        "    articles[i]=\"Nothing\"\n",
        "\n",
        "for k in range(1864):\n",
        "  articles[k]=''.join([j for j in articles[k] if not j.isdigit()])\n",
        "news[\"Article\"]=articles"
      ],
      "execution_count": 4,
      "outputs": [
        {
          "output_type": "stream",
          "text": [
            "/usr/local/lib/python3.6/dist-packages/ipykernel_launcher.py:5: SettingWithCopyWarning: \n",
            "A value is trying to be set on a copy of a slice from a DataFrame\n",
            "\n",
            "See the caveats in the documentation: https://pandas.pydata.org/pandas-docs/stable/user_guide/indexing.html#returning-a-view-versus-a-copy\n",
            "  \"\"\"\n",
            "/usr/local/lib/python3.6/dist-packages/ipykernel_launcher.py:8: SettingWithCopyWarning: \n",
            "A value is trying to be set on a copy of a slice from a DataFrame\n",
            "\n",
            "See the caveats in the documentation: https://pandas.pydata.org/pandas-docs/stable/user_guide/indexing.html#returning-a-view-versus-a-copy\n",
            "  \n"
          ],
          "name": "stderr"
        }
      ]
    },
    {
      "cell_type": "code",
      "metadata": {
        "id": "Vt5zIHCAiSZj",
        "colab_type": "code",
        "colab": {}
      },
      "source": [
        "vocab_size=8000\n",
        "embedding_dim=32\n",
        "max_length=400\n",
        "trunc_type='post'\n",
        "oov_tok=\"<00V>\""
      ],
      "execution_count": 0,
      "outputs": []
    },
    {
      "cell_type": "code",
      "metadata": {
        "id": "x7A2P-EAWesu",
        "colab_type": "code",
        "outputId": "bb2ce939-239c-4e9b-f3a7-4e59c0c7eaf8",
        "colab": {
          "base_uri": "https://localhost:8080/",
          "height": 442
        }
      },
      "source": [
        "for i in range(len(news)):\n",
        "    news[\"Article\"][i]=re.sub(\"[^a-zA-Z]\",\" \",news[\"Article\"][i])\n",
        "    news[\"Article\"][i]=news[\"Article\"][i].lower()\n",
        "    news[\"Article\"][i]=news[\"Article\"][i].split()\n",
        "    ps=PorterStemmer()\n",
        "    news[\"Article\"][i]=[ps.stem(word) for word in news[\"Article\"][i] if not word in set(stopwords.words(\"english\"))]\n",
        "    news[\"Article\"][i]=\" \".join(news[\"Article\"][i])\n",
        "\n",
        "tokenizer = Tokenizer(num_words=vocab_size,oov_token=\"<OOV>\")\n",
        "tokenizer.fit_on_texts((news[\"Article\"][:]).astype(str))\n",
        "word_index = tokenizer.word_index\n",
        "sequences=tokenizer.texts_to_sequences((news[\"Article\"][:]).astype(str))\n",
        "padded=pad_sequences(sequences,maxlen=max_length,truncating=trunc_type,padding=\"post\")\n",
        "X=padded\n",
        "y=news.iloc[:,3].values"
      ],
      "execution_count": 6,
      "outputs": [
        {
          "output_type": "stream",
          "text": [
            "/usr/local/lib/python3.6/dist-packages/ipykernel_launcher.py:2: SettingWithCopyWarning: \n",
            "A value is trying to be set on a copy of a slice from a DataFrame\n",
            "\n",
            "See the caveats in the documentation: https://pandas.pydata.org/pandas-docs/stable/user_guide/indexing.html#returning-a-view-versus-a-copy\n",
            "  \n",
            "/usr/local/lib/python3.6/dist-packages/ipykernel_launcher.py:3: SettingWithCopyWarning: \n",
            "A value is trying to be set on a copy of a slice from a DataFrame\n",
            "\n",
            "See the caveats in the documentation: https://pandas.pydata.org/pandas-docs/stable/user_guide/indexing.html#returning-a-view-versus-a-copy\n",
            "  This is separate from the ipykernel package so we can avoid doing imports until\n",
            "/usr/local/lib/python3.6/dist-packages/ipykernel_launcher.py:4: SettingWithCopyWarning: \n",
            "A value is trying to be set on a copy of a slice from a DataFrame\n",
            "\n",
            "See the caveats in the documentation: https://pandas.pydata.org/pandas-docs/stable/user_guide/indexing.html#returning-a-view-versus-a-copy\n",
            "  after removing the cwd from sys.path.\n",
            "/usr/local/lib/python3.6/dist-packages/ipykernel_launcher.py:6: SettingWithCopyWarning: \n",
            "A value is trying to be set on a copy of a slice from a DataFrame\n",
            "\n",
            "See the caveats in the documentation: https://pandas.pydata.org/pandas-docs/stable/user_guide/indexing.html#returning-a-view-versus-a-copy\n",
            "  \n",
            "/usr/local/lib/python3.6/dist-packages/ipykernel_launcher.py:7: SettingWithCopyWarning: \n",
            "A value is trying to be set on a copy of a slice from a DataFrame\n",
            "\n",
            "See the caveats in the documentation: https://pandas.pydata.org/pandas-docs/stable/user_guide/indexing.html#returning-a-view-versus-a-copy\n",
            "  import sys\n"
          ],
          "name": "stderr"
        }
      ]
    },
    {
      "cell_type": "code",
      "metadata": {
        "id": "qm-_0EQwYs3I",
        "colab_type": "code",
        "outputId": "dea68106-cba9-49e1-c5e7-930e52260034",
        "colab": {
          "base_uri": "https://localhost:8080/",
          "height": 1000
        }
      },
      "source": [
        "X_train,X_test,y_train,y_test=train_test_split(X,y,test_size=0.2,random_state=0)\n",
        "model=tf.keras.Sequential([tf.keras.layers.Embedding(vocab_size,embedding_dim,input_length=max_length),\n",
        "                            tf.keras.layers.GlobalAveragePooling1D(),\n",
        "                           tf.keras.layers.Dropout(0.3),\n",
        "                            tf.keras.layers.Dense(16,activation='relu',kernel_regularizer=tf.keras.regularizers.l2()),\n",
        "                           tf.keras.layers.Dense(32,activation='relu',kernel_regularizer=tf.keras.regularizers.l2()),\n",
        "                            tf.keras.layers.Dense(1,activation='sigmoid')])\n",
        "model.compile(loss='binary_crossentropy',optimizer=tf.keras.optimizers.RMSprop(),metrics=['accuracy'])\n",
        "num_epochs=100\n",
        "model.fit(X,y,epochs=num_epochs,validation_data=(X_test,y_test))"
      ],
      "execution_count": 7,
      "outputs": [
        {
          "output_type": "stream",
          "text": [
            "Epoch 1/100\n",
            "59/59 [==============================] - 0s 8ms/step - loss: 0.9985 - accuracy: 0.6432 - val_loss: 0.9110 - val_accuracy: 0.6193\n",
            "Epoch 2/100\n",
            "59/59 [==============================] - 0s 5ms/step - loss: 0.8358 - accuracy: 0.6491 - val_loss: 0.7959 - val_accuracy: 0.6193\n",
            "Epoch 3/100\n",
            "59/59 [==============================] - 0s 5ms/step - loss: 0.7410 - accuracy: 0.6491 - val_loss: 0.7259 - val_accuracy: 0.6193\n",
            "Epoch 4/100\n",
            "59/59 [==============================] - 0s 5ms/step - loss: 0.6891 - accuracy: 0.6491 - val_loss: 0.6880 - val_accuracy: 0.6193\n",
            "Epoch 5/100\n",
            "59/59 [==============================] - 0s 5ms/step - loss: 0.6601 - accuracy: 0.6491 - val_loss: 0.6733 - val_accuracy: 0.6193\n",
            "Epoch 6/100\n",
            "59/59 [==============================] - 0s 5ms/step - loss: 0.6505 - accuracy: 0.6491 - val_loss: 0.6694 - val_accuracy: 0.6193\n",
            "Epoch 7/100\n",
            "59/59 [==============================] - 0s 5ms/step - loss: 0.6503 - accuracy: 0.6491 - val_loss: 0.6682 - val_accuracy: 0.6193\n",
            "Epoch 8/100\n",
            "59/59 [==============================] - 0s 5ms/step - loss: 0.6495 - accuracy: 0.6491 - val_loss: 0.6675 - val_accuracy: 0.6193\n",
            "Epoch 9/100\n",
            "59/59 [==============================] - 0s 5ms/step - loss: 0.6490 - accuracy: 0.6491 - val_loss: 0.6663 - val_accuracy: 0.6193\n",
            "Epoch 10/100\n",
            "59/59 [==============================] - 0s 5ms/step - loss: 0.6489 - accuracy: 0.6491 - val_loss: 0.6662 - val_accuracy: 0.6193\n",
            "Epoch 11/100\n",
            "59/59 [==============================] - 0s 5ms/step - loss: 0.6496 - accuracy: 0.6491 - val_loss: 0.6669 - val_accuracy: 0.6193\n",
            "Epoch 12/100\n",
            "59/59 [==============================] - 0s 5ms/step - loss: 0.6492 - accuracy: 0.6491 - val_loss: 0.6662 - val_accuracy: 0.6193\n",
            "Epoch 13/100\n",
            "59/59 [==============================] - 0s 5ms/step - loss: 0.6489 - accuracy: 0.6491 - val_loss: 0.6666 - val_accuracy: 0.6193\n",
            "Epoch 14/100\n",
            "59/59 [==============================] - 0s 5ms/step - loss: 0.6490 - accuracy: 0.6491 - val_loss: 0.6649 - val_accuracy: 0.6193\n",
            "Epoch 15/100\n",
            "59/59 [==============================] - 0s 5ms/step - loss: 0.6479 - accuracy: 0.6491 - val_loss: 0.6650 - val_accuracy: 0.6193\n",
            "Epoch 16/100\n",
            "59/59 [==============================] - 0s 5ms/step - loss: 0.6443 - accuracy: 0.6491 - val_loss: 0.6651 - val_accuracy: 0.6193\n",
            "Epoch 17/100\n",
            "59/59 [==============================] - 0s 5ms/step - loss: 0.6449 - accuracy: 0.6491 - val_loss: 0.6602 - val_accuracy: 0.6193\n",
            "Epoch 18/100\n",
            "59/59 [==============================] - 0s 5ms/step - loss: 0.6360 - accuracy: 0.6491 - val_loss: 0.6554 - val_accuracy: 0.6193\n",
            "Epoch 19/100\n",
            "59/59 [==============================] - 0s 5ms/step - loss: 0.6314 - accuracy: 0.6491 - val_loss: 0.6470 - val_accuracy: 0.6193\n",
            "Epoch 20/100\n",
            "59/59 [==============================] - 0s 5ms/step - loss: 0.6212 - accuracy: 0.6491 - val_loss: 0.6389 - val_accuracy: 0.6193\n",
            "Epoch 21/100\n",
            "59/59 [==============================] - 0s 5ms/step - loss: 0.6131 - accuracy: 0.6491 - val_loss: 0.6262 - val_accuracy: 0.6193\n",
            "Epoch 22/100\n",
            "59/59 [==============================] - 0s 5ms/step - loss: 0.6015 - accuracy: 0.6491 - val_loss: 0.6188 - val_accuracy: 0.6193\n",
            "Epoch 23/100\n",
            "59/59 [==============================] - 0s 5ms/step - loss: 0.5910 - accuracy: 0.6668 - val_loss: 0.6028 - val_accuracy: 0.6944\n",
            "Epoch 24/100\n",
            "59/59 [==============================] - 0s 5ms/step - loss: 0.5787 - accuracy: 0.7242 - val_loss: 0.6006 - val_accuracy: 0.6622\n",
            "Epoch 25/100\n",
            "59/59 [==============================] - 0s 5ms/step - loss: 0.5741 - accuracy: 0.7339 - val_loss: 0.5872 - val_accuracy: 0.6944\n",
            "Epoch 26/100\n",
            "59/59 [==============================] - 0s 5ms/step - loss: 0.5644 - accuracy: 0.7446 - val_loss: 0.5736 - val_accuracy: 0.7319\n",
            "Epoch 27/100\n",
            "59/59 [==============================] - 0s 5ms/step - loss: 0.5572 - accuracy: 0.7656 - val_loss: 0.5640 - val_accuracy: 0.7399\n",
            "Epoch 28/100\n",
            "59/59 [==============================] - 0s 5ms/step - loss: 0.5467 - accuracy: 0.7693 - val_loss: 0.5522 - val_accuracy: 0.7587\n",
            "Epoch 29/100\n",
            "59/59 [==============================] - 0s 5ms/step - loss: 0.5324 - accuracy: 0.7817 - val_loss: 0.5510 - val_accuracy: 0.7346\n",
            "Epoch 30/100\n",
            "59/59 [==============================] - 0s 5ms/step - loss: 0.5226 - accuracy: 0.7956 - val_loss: 0.5312 - val_accuracy: 0.7721\n",
            "Epoch 31/100\n",
            "59/59 [==============================] - 0s 5ms/step - loss: 0.5188 - accuracy: 0.8010 - val_loss: 0.5202 - val_accuracy: 0.7828\n",
            "Epoch 32/100\n",
            "59/59 [==============================] - 0s 5ms/step - loss: 0.5059 - accuracy: 0.8160 - val_loss: 0.5080 - val_accuracy: 0.7936\n",
            "Epoch 33/100\n",
            "59/59 [==============================] - 0s 5ms/step - loss: 0.4954 - accuracy: 0.8294 - val_loss: 0.5006 - val_accuracy: 0.7962\n",
            "Epoch 34/100\n",
            "59/59 [==============================] - 0s 5ms/step - loss: 0.4884 - accuracy: 0.8391 - val_loss: 0.4828 - val_accuracy: 0.8311\n",
            "Epoch 35/100\n",
            "59/59 [==============================] - 0s 5ms/step - loss: 0.4713 - accuracy: 0.8460 - val_loss: 0.4727 - val_accuracy: 0.8365\n",
            "Epoch 36/100\n",
            "59/59 [==============================] - 0s 5ms/step - loss: 0.4634 - accuracy: 0.8578 - val_loss: 0.4635 - val_accuracy: 0.8391\n",
            "Epoch 37/100\n",
            "59/59 [==============================] - 0s 5ms/step - loss: 0.4543 - accuracy: 0.8659 - val_loss: 0.4499 - val_accuracy: 0.8579\n",
            "Epoch 38/100\n",
            "59/59 [==============================] - 0s 5ms/step - loss: 0.4434 - accuracy: 0.8696 - val_loss: 0.4385 - val_accuracy: 0.8686\n",
            "Epoch 39/100\n",
            "59/59 [==============================] - 0s 5ms/step - loss: 0.4327 - accuracy: 0.8804 - val_loss: 0.4280 - val_accuracy: 0.8794\n",
            "Epoch 40/100\n",
            "59/59 [==============================] - 0s 5ms/step - loss: 0.4267 - accuracy: 0.8814 - val_loss: 0.4186 - val_accuracy: 0.8740\n",
            "Epoch 41/100\n",
            "59/59 [==============================] - 0s 5ms/step - loss: 0.4116 - accuracy: 0.8938 - val_loss: 0.4089 - val_accuracy: 0.8981\n",
            "Epoch 42/100\n",
            "59/59 [==============================] - 0s 5ms/step - loss: 0.4055 - accuracy: 0.8954 - val_loss: 0.4002 - val_accuracy: 0.8981\n",
            "Epoch 43/100\n",
            "59/59 [==============================] - 0s 5ms/step - loss: 0.3967 - accuracy: 0.9056 - val_loss: 0.3907 - val_accuracy: 0.9035\n",
            "Epoch 44/100\n",
            "59/59 [==============================] - 0s 5ms/step - loss: 0.3868 - accuracy: 0.9115 - val_loss: 0.3840 - val_accuracy: 0.9008\n",
            "Epoch 45/100\n",
            "59/59 [==============================] - 0s 5ms/step - loss: 0.3813 - accuracy: 0.9136 - val_loss: 0.3833 - val_accuracy: 0.8820\n",
            "Epoch 46/100\n",
            "59/59 [==============================] - 0s 5ms/step - loss: 0.3697 - accuracy: 0.9195 - val_loss: 0.3633 - val_accuracy: 0.9223\n",
            "Epoch 47/100\n",
            "59/59 [==============================] - 0s 5ms/step - loss: 0.3619 - accuracy: 0.9227 - val_loss: 0.3585 - val_accuracy: 0.9115\n",
            "Epoch 48/100\n",
            "59/59 [==============================] - 0s 5ms/step - loss: 0.3512 - accuracy: 0.9313 - val_loss: 0.3693 - val_accuracy: 0.8874\n",
            "Epoch 49/100\n",
            "59/59 [==============================] - 0s 5ms/step - loss: 0.3434 - accuracy: 0.9281 - val_loss: 0.3397 - val_accuracy: 0.9357\n",
            "Epoch 50/100\n",
            "59/59 [==============================] - 0s 5ms/step - loss: 0.3374 - accuracy: 0.9313 - val_loss: 0.3322 - val_accuracy: 0.9383\n",
            "Epoch 51/100\n",
            "59/59 [==============================] - 0s 5ms/step - loss: 0.3310 - accuracy: 0.9367 - val_loss: 0.3277 - val_accuracy: 0.9276\n",
            "Epoch 52/100\n",
            "59/59 [==============================] - 0s 5ms/step - loss: 0.3242 - accuracy: 0.9410 - val_loss: 0.3233 - val_accuracy: 0.9303\n",
            "Epoch 53/100\n",
            "59/59 [==============================] - 0s 5ms/step - loss: 0.3139 - accuracy: 0.9485 - val_loss: 0.3139 - val_accuracy: 0.9357\n",
            "Epoch 54/100\n",
            "59/59 [==============================] - 0s 5ms/step - loss: 0.3110 - accuracy: 0.9512 - val_loss: 0.3063 - val_accuracy: 0.9678\n",
            "Epoch 55/100\n",
            "59/59 [==============================] - 0s 5ms/step - loss: 0.2995 - accuracy: 0.9517 - val_loss: 0.3073 - val_accuracy: 0.9383\n",
            "Epoch 56/100\n",
            "59/59 [==============================] - 0s 5ms/step - loss: 0.2953 - accuracy: 0.9539 - val_loss: 0.2908 - val_accuracy: 0.9598\n",
            "Epoch 57/100\n",
            "59/59 [==============================] - 0s 5ms/step - loss: 0.2875 - accuracy: 0.9571 - val_loss: 0.2902 - val_accuracy: 0.9517\n",
            "Epoch 58/100\n",
            "59/59 [==============================] - 0s 5ms/step - loss: 0.2805 - accuracy: 0.9544 - val_loss: 0.2828 - val_accuracy: 0.9517\n",
            "Epoch 59/100\n",
            "59/59 [==============================] - 0s 5ms/step - loss: 0.2766 - accuracy: 0.9657 - val_loss: 0.2722 - val_accuracy: 0.9598\n",
            "Epoch 60/100\n",
            "59/59 [==============================] - 0s 5ms/step - loss: 0.2725 - accuracy: 0.9592 - val_loss: 0.2672 - val_accuracy: 0.9678\n",
            "Epoch 61/100\n",
            "59/59 [==============================] - 0s 5ms/step - loss: 0.2632 - accuracy: 0.9646 - val_loss: 0.2696 - val_accuracy: 0.9571\n",
            "Epoch 62/100\n",
            "59/59 [==============================] - 0s 5ms/step - loss: 0.2574 - accuracy: 0.9705 - val_loss: 0.2561 - val_accuracy: 0.9651\n",
            "Epoch 63/100\n",
            "59/59 [==============================] - 0s 5ms/step - loss: 0.2531 - accuracy: 0.9683 - val_loss: 0.2508 - val_accuracy: 0.9678\n",
            "Epoch 64/100\n",
            "59/59 [==============================] - 0s 5ms/step - loss: 0.2492 - accuracy: 0.9667 - val_loss: 0.2483 - val_accuracy: 0.9705\n",
            "Epoch 65/100\n",
            "59/59 [==============================] - 0s 5ms/step - loss: 0.2413 - accuracy: 0.9700 - val_loss: 0.2485 - val_accuracy: 0.9625\n",
            "Epoch 66/100\n",
            "59/59 [==============================] - 0s 5ms/step - loss: 0.2384 - accuracy: 0.9705 - val_loss: 0.2366 - val_accuracy: 0.9732\n",
            "Epoch 67/100\n",
            "59/59 [==============================] - 0s 5ms/step - loss: 0.2334 - accuracy: 0.9673 - val_loss: 0.2351 - val_accuracy: 0.9705\n",
            "Epoch 68/100\n",
            "59/59 [==============================] - 0s 5ms/step - loss: 0.2246 - accuracy: 0.9726 - val_loss: 0.2441 - val_accuracy: 0.9598\n",
            "Epoch 69/100\n",
            "59/59 [==============================] - 0s 5ms/step - loss: 0.2264 - accuracy: 0.9726 - val_loss: 0.2288 - val_accuracy: 0.9705\n",
            "Epoch 70/100\n",
            "59/59 [==============================] - 0s 5ms/step - loss: 0.2164 - accuracy: 0.9737 - val_loss: 0.2204 - val_accuracy: 0.9786\n",
            "Epoch 71/100\n",
            "59/59 [==============================] - 0s 5ms/step - loss: 0.2162 - accuracy: 0.9775 - val_loss: 0.2288 - val_accuracy: 0.9732\n",
            "Epoch 72/100\n",
            "59/59 [==============================] - 0s 5ms/step - loss: 0.2105 - accuracy: 0.9785 - val_loss: 0.2320 - val_accuracy: 0.9678\n",
            "Epoch 73/100\n",
            "59/59 [==============================] - 0s 5ms/step - loss: 0.2066 - accuracy: 0.9791 - val_loss: 0.2120 - val_accuracy: 0.9759\n",
            "Epoch 74/100\n",
            "59/59 [==============================] - 0s 5ms/step - loss: 0.2007 - accuracy: 0.9802 - val_loss: 0.2044 - val_accuracy: 0.9812\n",
            "Epoch 75/100\n",
            "59/59 [==============================] - 0s 5ms/step - loss: 0.1989 - accuracy: 0.9791 - val_loss: 0.2011 - val_accuracy: 0.9812\n",
            "Epoch 76/100\n",
            "59/59 [==============================] - 0s 5ms/step - loss: 0.1951 - accuracy: 0.9812 - val_loss: 0.1986 - val_accuracy: 0.9839\n",
            "Epoch 77/100\n",
            "59/59 [==============================] - 0s 5ms/step - loss: 0.1920 - accuracy: 0.9802 - val_loss: 0.1988 - val_accuracy: 0.9786\n",
            "Epoch 78/100\n",
            "59/59 [==============================] - 0s 5ms/step - loss: 0.1857 - accuracy: 0.9823 - val_loss: 0.1911 - val_accuracy: 0.9839\n",
            "Epoch 79/100\n",
            "59/59 [==============================] - 0s 5ms/step - loss: 0.1856 - accuracy: 0.9812 - val_loss: 0.1927 - val_accuracy: 0.9786\n",
            "Epoch 80/100\n",
            "59/59 [==============================] - 0s 5ms/step - loss: 0.1791 - accuracy: 0.9850 - val_loss: 0.1868 - val_accuracy: 0.9839\n",
            "Epoch 81/100\n",
            "59/59 [==============================] - 0s 5ms/step - loss: 0.1767 - accuracy: 0.9834 - val_loss: 0.1813 - val_accuracy: 0.9839\n",
            "Epoch 82/100\n",
            "59/59 [==============================] - 0s 5ms/step - loss: 0.1741 - accuracy: 0.9871 - val_loss: 0.1803 - val_accuracy: 0.9839\n",
            "Epoch 83/100\n",
            "59/59 [==============================] - 0s 5ms/step - loss: 0.1758 - accuracy: 0.9855 - val_loss: 0.1768 - val_accuracy: 0.9839\n",
            "Epoch 84/100\n",
            "59/59 [==============================] - 0s 5ms/step - loss: 0.1727 - accuracy: 0.9882 - val_loss: 0.1808 - val_accuracy: 0.9786\n",
            "Epoch 85/100\n",
            "59/59 [==============================] - 0s 5ms/step - loss: 0.1658 - accuracy: 0.9855 - val_loss: 0.1761 - val_accuracy: 0.9839\n",
            "Epoch 86/100\n",
            "59/59 [==============================] - 0s 5ms/step - loss: 0.1630 - accuracy: 0.9866 - val_loss: 0.1687 - val_accuracy: 0.9839\n",
            "Epoch 87/100\n",
            "59/59 [==============================] - 0s 5ms/step - loss: 0.1596 - accuracy: 0.9871 - val_loss: 0.1691 - val_accuracy: 0.9839\n",
            "Epoch 88/100\n",
            "59/59 [==============================] - 0s 5ms/step - loss: 0.1591 - accuracy: 0.9877 - val_loss: 0.1651 - val_accuracy: 0.9839\n",
            "Epoch 89/100\n",
            "59/59 [==============================] - 0s 5ms/step - loss: 0.1551 - accuracy: 0.9877 - val_loss: 0.1612 - val_accuracy: 0.9839\n",
            "Epoch 90/100\n",
            "59/59 [==============================] - 0s 5ms/step - loss: 0.1522 - accuracy: 0.9887 - val_loss: 0.1691 - val_accuracy: 0.9786\n",
            "Epoch 91/100\n",
            "59/59 [==============================] - 0s 5ms/step - loss: 0.1491 - accuracy: 0.9893 - val_loss: 0.1569 - val_accuracy: 0.9839\n",
            "Epoch 92/100\n",
            "59/59 [==============================] - 0s 5ms/step - loss: 0.1485 - accuracy: 0.9882 - val_loss: 0.1547 - val_accuracy: 0.9839\n",
            "Epoch 93/100\n",
            "59/59 [==============================] - 0s 5ms/step - loss: 0.1471 - accuracy: 0.9877 - val_loss: 0.1550 - val_accuracy: 0.9839\n",
            "Epoch 94/100\n",
            "59/59 [==============================] - 0s 5ms/step - loss: 0.1418 - accuracy: 0.9887 - val_loss: 0.1543 - val_accuracy: 0.9839\n",
            "Epoch 95/100\n",
            "59/59 [==============================] - 0s 5ms/step - loss: 0.1401 - accuracy: 0.9898 - val_loss: 0.1527 - val_accuracy: 0.9839\n",
            "Epoch 96/100\n",
            "59/59 [==============================] - 0s 5ms/step - loss: 0.1378 - accuracy: 0.9893 - val_loss: 0.1485 - val_accuracy: 0.9839\n",
            "Epoch 97/100\n",
            "59/59 [==============================] - 0s 5ms/step - loss: 0.1363 - accuracy: 0.9893 - val_loss: 0.1453 - val_accuracy: 0.9839\n",
            "Epoch 98/100\n",
            "59/59 [==============================] - 0s 5ms/step - loss: 0.1358 - accuracy: 0.9898 - val_loss: 0.1451 - val_accuracy: 0.9839\n",
            "Epoch 99/100\n",
            "59/59 [==============================] - 0s 5ms/step - loss: 0.1318 - accuracy: 0.9887 - val_loss: 0.1426 - val_accuracy: 0.9839\n",
            "Epoch 100/100\n",
            "59/59 [==============================] - 0s 5ms/step - loss: 0.1321 - accuracy: 0.9903 - val_loss: 0.1403 - val_accuracy: 0.9839\n"
          ],
          "name": "stdout"
        },
        {
          "output_type": "execute_result",
          "data": {
            "text/plain": [
              "<tensorflow.python.keras.callbacks.History at 0x7f0b28ac20f0>"
            ]
          },
          "metadata": {
            "tags": []
          },
          "execution_count": 7
        }
      ]
    },
    {
      "cell_type": "code",
      "metadata": {
        "id": "i6G8zqrAZ0nE",
        "colab_type": "code",
        "outputId": "acf3db56-2985-482a-86c5-3bc886f66ef6",
        "colab": {
          "base_uri": "https://localhost:8080/",
          "height": 51
        }
      },
      "source": [
        "y_pred=model.predict(X_test)\n",
        "for i in range(len(y_pred)):\n",
        "  if y_pred[i]>=0.5:\n",
        "    y_pred[i]=1\n",
        "  else:\n",
        "    y_pred[i]=0\n",
        "from sklearn.metrics import confusion_matrix\n",
        "cm=confusion_matrix(y_test,y_pred)\n",
        "cm"
      ],
      "execution_count": 8,
      "outputs": [
        {
          "output_type": "execute_result",
          "data": {
            "text/plain": [
              "array([[226,   5],\n",
              "       [  1, 141]])"
            ]
          },
          "metadata": {
            "tags": []
          },
          "execution_count": 8
        }
      ]
    },
    {
      "cell_type": "code",
      "metadata": {
        "id": "Wmk9gp-djUOs",
        "colab_type": "code",
        "colab": {}
      },
      "source": [
        ""
      ],
      "execution_count": 0,
      "outputs": []
    }
  ]
}